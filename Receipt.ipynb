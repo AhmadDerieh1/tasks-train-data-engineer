{
 "cells": [
  {
   "cell_type": "code",
   "execution_count": 187,
   "id": "29a81a37-a737-4b31-979c-bb2d7a4db7ab",
   "metadata": {},
   "outputs": [],
   "source": [
    "class Item:\n",
    "    def __init__(self, item_name=\"Default Item\", price=0, quantity=0):\n",
    "        self._item_name = item_name\n",
    "        self._price = price\n",
    "        self._quantity = quantity   \n",
    "        \n",
    "    def get_item_name(self):\n",
    "        return self._item_name\n",
    "    \n",
    "    def set_item_name(self, item_name):\n",
    "        self._item_name = item_name\n",
    "    \n",
    "    def get_price(self):\n",
    "        return self._price\n",
    "    \n",
    "    def set_price(self, price):\n",
    "        self._price = price\n",
    "\n",
    "    def set_item_quantity(self, quantity):  # Corrected parameter name\n",
    "        self._quantity = quantity\n",
    "        \n",
    "    def get_item_quantity(self):\n",
    "        return self._quantity\n",
    "    def get_total(self):\n",
    "        return self._quantity*self._price\n",
    "    def print_information(self):\n",
    "        print(f\"Item Name: {self._item_name}, Price: ${self._price}, Quantity: {self._quantity}, Total: {self._quantity*self._price}$\")\n"
   ]
  },
  {
   "cell_type": "code",
   "execution_count": 188,
   "id": "237fb00e-ca2f-4eae-bb53-f4a6c99475fb",
   "metadata": {},
   "outputs": [],
   "source": [
    "import re\n",
    "def split_file(file_path):\n",
    "    rows = []\n",
    "    with open(file_path, 'r', encoding='utf-16') as file:\n",
    "        for line in file:\n",
    "            row = line.strip().split(',')\n",
    "            rows.append(row)\n",
    "    return rows"
   ]
  },
  {
   "cell_type": "code",
   "execution_count": 189,
   "id": "b709e888-f2b4-4700-8501-3333aac0cea9",
   "metadata": {},
   "outputs": [],
   "source": [
    "def extract_using_name(row,name):\n",
    "    if name is not None and isinstance(row, list):\n",
    "        row = ' '.join(row)  \n",
    "    elif name is None or not isinstance(row, str):\n",
    "        return None  \n",
    "    \n",
    "    index = 1\n",
    "    customer_name_pattern = re.compile(fr'{name}\\s*(.+)')\n",
    "    match = customer_name_pattern.search(row)\n",
    "    if match:\n",
    "        return match.group(index).strip()\n",
    "    else:\n",
    "        return None"
   ]
  },
  {
   "cell_type": "code",
   "execution_count": 190,
   "id": "1610539e-7725-497c-ac87-eca76957d43f",
   "metadata": {},
   "outputs": [],
   "source": [
    "def extract_items(rows):\n",
    "    price_pattern = r'\\b(\\d+)\\s*x\\b'\n",
    "    quantity_pattern = r'\\$(\\d+)'  \n",
    "    index = 1\n",
    "    start = 5\n",
    "    setp = 2\n",
    "    list_of_items= []\n",
    "    for i in range(start, len(rows),setp):\n",
    "        if 'Items count' in rows[i][0] or 'Items count' in rows[i-index][0] : \n",
    "            break \n",
    "        try:\n",
    "            item_name = rows[i-index][0]\n",
    "            price_match = re.search(price_pattern, rows[i][0])\n",
    "            quantity_match = re.search(quantity_pattern, rows[i][0])\n",
    "            price = float(price_match.group(index)) \n",
    "            quantity = int(quantity_match.group(index)) \n",
    "        except ValueError as e:  \n",
    "            print(f\"Error converting price or quantity for item '{item_name}': {e}\")\n",
    "            price = None\n",
    "            quantity = None\n",
    "        list_of_items.append(Item(item_name=item_name, price=price, quantity=quantity))\n",
    "    return list_of_items"
   ]
  },
  {
   "cell_type": "code",
   "execution_count": 191,
   "id": "f3f84836-7e87-40d1-9eee-03c469a6dad7",
   "metadata": {},
   "outputs": [
    {
     "data": {
      "text/plain": [
       "'Receipt No.: 21-200-000101'"
      ]
     },
     "execution_count": 191,
     "metadata": {},
     "output_type": "execute_result"
    }
   ],
   "source": [
    "file_path = r'C:\\Users\\ahmad\\Desktop\\New folder\\Receipt.txt'  \n",
    "rows=split_file(file_path)\n",
    "rows[0][0]"
   ]
  },
  {
   "cell_type": "code",
   "execution_count": 192,
   "id": "7b653927-c43c-4b08-b0fb-c2ac53cb7e3a",
   "metadata": {},
   "outputs": [
    {
     "name": "stdout",
     "output_type": "stream",
     "text": [
      "21-200-000101\n",
      "7/26/2021 12:24:57 PM\n",
      "wisam farraj\n",
      "101\n",
      "Item Name: Cappuccino, Price: $1.0, Quantity: 10, Total: 10.0$\n",
      "Item Name: Espresso, Price: $1.0, Quantity: 10, Total: 10.0$\n",
      "Item Name: Frappccuino, Price: $2.0, Quantity: 10, Total: 20.0$\n",
      "Item Name: Mocha, Price: $1.0, Quantity: 10, Total: 10.0$\n",
      "4\n",
      "$50.00\n",
      "$50.00\n",
      "$50.00\n"
     ]
    }
   ],
   "source": [
    "print(extract_using_name(rows[0],\"Receipt No.:\"))\n",
    "print(rows[1][0])\n",
    "print(extract_using_name(rows[2],\"User:\"))\n",
    "print(extract_using_name(rows[3],\"Order No.:\"))\n",
    "list_of_items = list_of_items(rows)\n",
    "\n",
    "for item in extract_items:\n",
    "    item.print_information()\n",
    "print(extract_using_name(rows[12],\"Items count:\"))\n",
    "print(extract_using_name(rows[13],\"TOTAL:\"))\n",
    "print(extract_using_name(rows[14],\"Cash:\"))\n",
    "print(extract_using_name(rows[15],\"Paid amount:\"))"
   ]
  },
  {
   "cell_type": "code",
   "execution_count": 194,
   "id": "a1d1d470-8305-41ff-a471-7567053048f9",
   "metadata": {},
   "outputs": [
    {
     "name": "stdin",
     "output_type": "stream",
     "text": [
      "Enter the case number:  3\n"
     ]
    },
    {
     "name": "stdout",
     "output_type": "stream",
     "text": [
      "User Name: wisam farraj\n"
     ]
    }
   ],
   "source": [
    "def main():\n",
    "    switch_dict = {\n",
    "        1: handle_receipt_no,\n",
    "        2: handle_time_date,\n",
    "        3: handle_user_name,\n",
    "        4: handle_order_no,\n",
    "        5: handle_items_count,\n",
    "        6: handle_total,\n",
    "        7: handle_cash,\n",
    "        8: handle_paid,\n",
    "        9: handle_items,\n",
    "        10: default_case,\n",
    "    }\n",
    "    try:\n",
    "        case_number = int(input(\"Enter the case number: \")) \n",
    "        result = switch_dict.get(case_number, default_case)()\n",
    "        print(result)\n",
    "    except ValueError:\n",
    "        print(\"Please enter a valid number.\")\n",
    "\n",
    "if __name__ == \"__main__\":\n",
    "    main()\n"
   ]
  },
  {
   "cell_type": "code",
   "execution_count": 123,
   "id": "4c232cf0-e34f-4dad-86ea-b72d3a5e0f5b",
   "metadata": {},
   "outputs": [],
   "source": [
    "def handle_receipt_no():\n",
    "    print(\"Receipt No.: \",end=\"\")\n",
    "    return extract_using_name(rows[0], \"Receipt No.:\")\n",
    "\n",
    "def handle_time_date():\n",
    "    print(\"time date: \",end=\"\")\n",
    "    return rows[1][0]\n",
    "\n",
    "def handle_user_name():\n",
    "    print(\"User Name: \",end=\"\")\n",
    "    return extract_using_name(rows[2], \"User:\")\n",
    "\n",
    "def handle_order_no():\n",
    "    print(\"Order No.: \" ,end=\"\")\n",
    "    return extract_using_name(rows[3], \"Order No.:\")\n",
    "\n",
    "def handle_items_count():\n",
    "    print(\"Items count: \" ,end=\"\")\n",
    "    return extract_using_name(rows[12], \"Items count:\")\n",
    "\n",
    "def handle_items():\n",
    "    list_of_items=extract_price_quantity(rows)\n",
    "    for item in list_of_items:\n",
    "        item.print_information()\n",
    "def handle_total():\n",
    "    print(\"TOTAL: \" ,end=\"\")\n",
    "    return extract_using_name(rows[13], \"TOTAL:\")\n",
    "\n",
    "def handle_cash():\n",
    "    print(\"Cash: \" ,end=\"\")\n",
    "    return extract_using_name(rows[14], \"Cash:\")\n",
    "\n",
    "def handle_paid():\n",
    "    print(\"Paid amount: \" ,end=\"\")\n",
    "    return extract_using_name(rows[15], \"Paid amount:\")\n",
    "\n",
    "def default_case():\n",
    "    return \"This is the default case\"\n",
    "\n",
    "def menu():\n",
    "    print(\"Enter 1: Extract Receipt Number\")\n",
    "    print(\"Enter 2: Extract Time and Date\")\n",
    "    print(\"Enter 3: Extract User Name\")\n",
    "    print(\"Enter 4: Extract Order Number\")\n",
    "    print(\"Enter 5: Extract Items Count\")\n",
    "    print(\"Enter 6: Extract Total\")\n",
    "    print(\"Enter 7: Extract Cash\")\n",
    "    print(\"Enter 8: Extract Paid amount\")\n",
    "    print(\"Enter 9: Extract Items\")   \n"
   ]
  },
  {
   "cell_type": "code",
   "execution_count": null,
   "id": "24841b4c-b0cb-49b2-98c2-b3a869651ea8",
   "metadata": {},
   "outputs": [],
   "source": []
  }
 ],
 "metadata": {
  "kernelspec": {
   "display_name": "Python 3 (ipykernel)",
   "language": "python",
   "name": "python3"
  },
  "language_info": {
   "codemirror_mode": {
    "name": "ipython",
    "version": 3
   },
   "file_extension": ".py",
   "mimetype": "text/x-python",
   "name": "python",
   "nbconvert_exporter": "python",
   "pygments_lexer": "ipython3",
   "version": "3.11.7"
  }
 },
 "nbformat": 4,
 "nbformat_minor": 5
}
